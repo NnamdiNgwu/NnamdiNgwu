{
  "nbformat": 4,
  "nbformat_minor": 0,
  "metadata": {
    "colab": {
      "provenance": [],
      "authorship_tag": "ABX9TyOywcNgTKMYmH9b+FJfSUPB"
    },
    "kernelspec": {
      "name": "python3",
      "display_name": "Python 3"
    },
    "language_info": {
      "name": "python"
    }
  },
  "cells": [
    {
      "cell_type": "code",
      "execution_count": 1,
      "metadata": {
        "id": "yUY9SkImJWgy"
      },
      "outputs": [],
      "source": [
        "# Lesson 2: Datasets For Reinforcement Learning Training"
      ]
    },
    {
      "cell_type": "markdown",
      "source": [
        "# Lesson 2: Datasets For Reinforcement Learning Training\n",
        "\n"
      ],
      "metadata": {
        "id": "5i4gzUzJTsZl"
      }
    },
    {
      "cell_type": "markdown",
      "source": [],
      "metadata": {
        "id": "uuiYGa_LTlV6"
      }
    },
    {
      "cell_type": "markdown",
      "source": [
        "### Loading and exploring the datasets\n",
        "\n",
        "\"Reinforcement Learning from Human Feedback\" **(RLHF)** requires the following datasets:\n",
        "- Preference dataset\n",
        "  - Input prompt, candidate response 0, candidate response 1, choice (candidate 0 or 1)\n",
        "- Prompt dataset\n",
        "  - Input prompt only, no response"
      ],
      "metadata": {
        "id": "Nmd0ZteKUHKw"
      }
    },
    {
      "cell_type": "code",
      "source": [],
      "metadata": {
        "id": "bWfFueqZUINN"
      },
      "execution_count": null,
      "outputs": []
    }
  ]
}