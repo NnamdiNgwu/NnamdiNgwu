{
  "nbformat": 4,
  "nbformat_minor": 0,
  "metadata": {
    "colab": {
      "provenance": [],
      "authorship_tag": "ABX9TyNm70J+jfhc7Q6m5kb7aL5i",
      "include_colab_link": true
    },
    "kernelspec": {
      "name": "python3",
      "display_name": "Python 3"
    },
    "language_info": {
      "name": "python"
    }
  },
  "cells": [
    {
      "cell_type": "markdown",
      "metadata": {
        "id": "view-in-github",
        "colab_type": "text"
      },
      "source": [
        "<a href=\"https://colab.research.google.com/github/NnamdiNgwu/NnamdiNgwu/blob/main/training_matching_dataset.ipynb\" target=\"_parent\"><img src=\"https://colab.research.google.com/assets/colab-badge.svg\" alt=\"Open In Colab\"/></a>"
      ]
    },
    {
      "cell_type": "markdown",
      "source": [
        "@inproceedings{nr,\n",
        "     title={The Network Data Repository with Interactive Graph Analytics and Visualization},\n",
        "     author={Ryan A. Rossi and Nesreen K. Ahmed},\n",
        "     booktitle={AAAI},\n",
        "     url={https://networkrepository.com},\n",
        "     year={2015}\n",
        "\n",
        "\n",
        "@article{brozovsky2007recommender,\n",
        "     title={Recommender system for online dating service},\n",
        "     author={Brozovsky, Lukas and Petricek, Vaclav},\n",
        "     journal={arXiv preprint cs/0703042},\n",
        "     year={2007}\n",
        "}\n",
        "\n",
        "Citation"
      ],
      "metadata": {
        "id": "IiGj0kmRpHJM"
      }
    },
    {
      "cell_type": "markdown",
      "source": [
        "Category\tSparse Networks\n",
        "Collection\tRecommendation Networks\n",
        "Tags\n",
        "Rating networkrecommendationdynamic\n",
        "Short\tUsers-rate-users\n",
        "Vertex type\tUser, user\n",
        "Edge type\tRate\n",
        "Format\tBipartite\n",
        "Edge weights\tWeighted\n",
        "Description\tThird column represents the ratings (edge weights). Max rating is 10."
      ],
      "metadata": {
        "id": "L01MB8jnscGS"
      }
    },
    {
      "cell_type": "code",
      "source": [
        "#pip install cupy-cuda12x # for numpy to utiliz GPU"
      ],
      "metadata": {
        "id": "VE-y_EQIEzYI"
      },
      "execution_count": null,
      "outputs": []
    },
    {
      "cell_type": "code",
      "source": [
        "#pip install py7zr"
      ],
      "metadata": {
        "id": "xEdfKcnAQD1k"
      },
      "execution_count": null,
      "outputs": []
    },
    {
      "cell_type": "code",
      "source": [
        "#pip install tensorflow"
      ],
      "metadata": {
        "id": "W2c2ZjbNXcH2"
      },
      "execution_count": null,
      "outputs": []
    },
    {
      "cell_type": "code",
      "source": [
        "#pip install keras"
      ],
      "metadata": {
        "id": "FA-tsPL-ZXMP"
      },
      "execution_count": null,
      "outputs": []
    },
    {
      "cell_type": "code",
      "source": [
        "#pip install path"
      ],
      "metadata": {
        "id": "401wXTeRSZ1d"
      },
      "execution_count": null,
      "outputs": []
    },
    {
      "cell_type": "markdown",
      "source": [
        "Training our model for our dating project using a graph dataset and"
      ],
      "metadata": {
        "id": "CfgFkx1cF6gg"
      }
    },
    {
      "cell_type": "code",
      "source": [
        "import csv\n",
        "#import unlzw3\n",
        "import py7zr\n",
        "from pathlib import Path\n",
        "import pandas as pd\n",
        "import numpy as np\n",
        "from sklearn.model_selection import train_test_split\n",
        "from sklearn.impute import SimpleImputer\n",
        "import tensorflow as tf\n",
        "#import cupy as cp\n",
        "from scipy.sparse import   csr_matrix"
      ],
      "metadata": {
        "id": "tkhi5c5SQK4W"
      },
      "execution_count": null,
      "outputs": []
    },
    {
      "cell_type": "code",
      "source": [],
      "metadata": {
        "id": "wJ5Xvv1hQzj-"
      },
      "execution_count": null,
      "outputs": []
    },
    {
      "cell_type": "markdown",
      "source": [
        "Extract the zipped graph data as .edges file to be read by pd.read_csv"
      ],
      "metadata": {
        "id": "uoZZyUgQGQvc"
      }
    },
    {
      "cell_type": "code",
      "source": [
        "#xtract the data\n",
        "#import py7zr\n",
        "\n",
        "with py7zr.SevenZipFile(\"libimseti.7z\", mode=\"r\") as archive:\n",
        "  archive.extractall()"
      ],
      "metadata": {
        "id": "AnXY9OzBNtgK"
      },
      "execution_count": null,
      "outputs": []
    },
    {
      "cell_type": "markdown",
      "source": [
        "We will read the file and pospone the explorately data analysis for now."
      ],
      "metadata": {
        "id": "CLjCNafkIyhY"
      }
    },
    {
      "cell_type": "code",
      "source": [
        "#reading the original data\n",
        "df1 = pd.read_csv(\"libimseti.edges\", skiprows=1, header=None)"
      ],
      "metadata": {
        "id": "iTl0eu2GKkdk"
      },
      "execution_count": null,
      "outputs": []
    },
    {
      "cell_type": "code",
      "source": [
        "df2 = df1.copy()"
      ],
      "metadata": {
        "id": "0-OczcNkNtem"
      },
      "execution_count": null,
      "outputs": []
    },
    {
      "cell_type": "code",
      "source": [
        "df2.shape"
      ],
      "metadata": {
        "colab": {
          "base_uri": "https://localhost:8080/"
        },
        "id": "hMQMkmkaMUZv",
        "outputId": "5e3a9f6e-71a7-43d0-94f6-ac74b1290c3f"
      },
      "execution_count": null,
      "outputs": [
        {
          "output_type": "execute_result",
          "data": {
            "text/plain": [
              "(16167183, 3)"
            ]
          },
          "metadata": {},
          "execution_count": 15
        }
      ]
    },
    {
      "cell_type": "code",
      "source": [
        "df2.head()"
      ],
      "metadata": {
        "colab": {
          "base_uri": "https://localhost:8080/",
          "height": 204
        },
        "id": "Iaq3ziacMbbK",
        "outputId": "a8ebb279-d6b0-4f7d-a86f-2d54f0355123"
      },
      "execution_count": null,
      "outputs": [
        {
          "output_type": "execute_result",
          "data": {
            "text/plain": [
              "   0     1     2\n",
              "0  1   133   8.0\n",
              "1  1   720   6.0\n",
              "2  1   971  10.0\n",
              "3  1  1095   7.0\n",
              "4  1  1616  10.0"
            ],
            "text/html": [
              "\n",
              "  <div id=\"df-8ffd11b6-dbbe-4fc4-9d39-59574478c02a\" class=\"colab-df-container\">\n",
              "    <div>\n",
              "<style scoped>\n",
              "    .dataframe tbody tr th:only-of-type {\n",
              "        vertical-align: middle;\n",
              "    }\n",
              "\n",
              "    .dataframe tbody tr th {\n",
              "        vertical-align: top;\n",
              "    }\n",
              "\n",
              "    .dataframe thead th {\n",
              "        text-align: right;\n",
              "    }\n",
              "</style>\n",
              "<table border=\"1\" class=\"dataframe\">\n",
              "  <thead>\n",
              "    <tr style=\"text-align: right;\">\n",
              "      <th></th>\n",
              "      <th>0</th>\n",
              "      <th>1</th>\n",
              "      <th>2</th>\n",
              "    </tr>\n",
              "  </thead>\n",
              "  <tbody>\n",
              "    <tr>\n",
              "      <th>0</th>\n",
              "      <td>1</td>\n",
              "      <td>133</td>\n",
              "      <td>8.0</td>\n",
              "    </tr>\n",
              "    <tr>\n",
              "      <th>1</th>\n",
              "      <td>1</td>\n",
              "      <td>720</td>\n",
              "      <td>6.0</td>\n",
              "    </tr>\n",
              "    <tr>\n",
              "      <th>2</th>\n",
              "      <td>1</td>\n",
              "      <td>971</td>\n",
              "      <td>10.0</td>\n",
              "    </tr>\n",
              "    <tr>\n",
              "      <th>3</th>\n",
              "      <td>1</td>\n",
              "      <td>1095</td>\n",
              "      <td>7.0</td>\n",
              "    </tr>\n",
              "    <tr>\n",
              "      <th>4</th>\n",
              "      <td>1</td>\n",
              "      <td>1616</td>\n",
              "      <td>10.0</td>\n",
              "    </tr>\n",
              "  </tbody>\n",
              "</table>\n",
              "</div>\n",
              "    <div class=\"colab-df-buttons\">\n",
              "\n",
              "  <div class=\"colab-df-container\">\n",
              "    <button class=\"colab-df-convert\" onclick=\"convertToInteractive('df-8ffd11b6-dbbe-4fc4-9d39-59574478c02a')\"\n",
              "            title=\"Convert this dataframe to an interactive table.\"\n",
              "            style=\"display:none;\">\n",
              "\n",
              "  <svg xmlns=\"http://www.w3.org/2000/svg\" height=\"24px\" viewBox=\"0 -960 960 960\">\n",
              "    <path d=\"M120-120v-720h720v720H120Zm60-500h600v-160H180v160Zm220 220h160v-160H400v160Zm0 220h160v-160H400v160ZM180-400h160v-160H180v160Zm440 0h160v-160H620v160ZM180-180h160v-160H180v160Zm440 0h160v-160H620v160Z\"/>\n",
              "  </svg>\n",
              "    </button>\n",
              "\n",
              "  <style>\n",
              "    .colab-df-container {\n",
              "      display:flex;\n",
              "      gap: 12px;\n",
              "    }\n",
              "\n",
              "    .colab-df-convert {\n",
              "      background-color: #E8F0FE;\n",
              "      border: none;\n",
              "      border-radius: 50%;\n",
              "      cursor: pointer;\n",
              "      display: none;\n",
              "      fill: #1967D2;\n",
              "      height: 32px;\n",
              "      padding: 0 0 0 0;\n",
              "      width: 32px;\n",
              "    }\n",
              "\n",
              "    .colab-df-convert:hover {\n",
              "      background-color: #E2EBFA;\n",
              "      box-shadow: 0px 1px 2px rgba(60, 64, 67, 0.3), 0px 1px 3px 1px rgba(60, 64, 67, 0.15);\n",
              "      fill: #174EA6;\n",
              "    }\n",
              "\n",
              "    .colab-df-buttons div {\n",
              "      margin-bottom: 4px;\n",
              "    }\n",
              "\n",
              "    [theme=dark] .colab-df-convert {\n",
              "      background-color: #3B4455;\n",
              "      fill: #D2E3FC;\n",
              "    }\n",
              "\n",
              "    [theme=dark] .colab-df-convert:hover {\n",
              "      background-color: #434B5C;\n",
              "      box-shadow: 0px 1px 3px 1px rgba(0, 0, 0, 0.15);\n",
              "      filter: drop-shadow(0px 1px 2px rgba(0, 0, 0, 0.3));\n",
              "      fill: #FFFFFF;\n",
              "    }\n",
              "  </style>\n",
              "\n",
              "    <script>\n",
              "      const buttonEl =\n",
              "        document.querySelector('#df-8ffd11b6-dbbe-4fc4-9d39-59574478c02a button.colab-df-convert');\n",
              "      buttonEl.style.display =\n",
              "        google.colab.kernel.accessAllowed ? 'block' : 'none';\n",
              "\n",
              "      async function convertToInteractive(key) {\n",
              "        const element = document.querySelector('#df-8ffd11b6-dbbe-4fc4-9d39-59574478c02a');\n",
              "        const dataTable =\n",
              "          await google.colab.kernel.invokeFunction('convertToInteractive',\n",
              "                                                    [key], {});\n",
              "        if (!dataTable) return;\n",
              "\n",
              "        const docLinkHtml = 'Like what you see? Visit the ' +\n",
              "          '<a target=\"_blank\" href=https://colab.research.google.com/notebooks/data_table.ipynb>data table notebook</a>'\n",
              "          + ' to learn more about interactive tables.';\n",
              "        element.innerHTML = '';\n",
              "        dataTable['output_type'] = 'display_data';\n",
              "        await google.colab.output.renderOutput(dataTable, element);\n",
              "        const docLink = document.createElement('div');\n",
              "        docLink.innerHTML = docLinkHtml;\n",
              "        element.appendChild(docLink);\n",
              "      }\n",
              "    </script>\n",
              "  </div>\n",
              "\n",
              "\n",
              "<div id=\"df-877885bd-fafd-45dd-8d67-b33e5d4f89bf\">\n",
              "  <button class=\"colab-df-quickchart\" onclick=\"quickchart('df-877885bd-fafd-45dd-8d67-b33e5d4f89bf')\"\n",
              "            title=\"Suggest charts\"\n",
              "            style=\"display:none;\">\n",
              "\n",
              "<svg xmlns=\"http://www.w3.org/2000/svg\" height=\"24px\"viewBox=\"0 0 24 24\"\n",
              "     width=\"24px\">\n",
              "    <g>\n",
              "        <path d=\"M19 3H5c-1.1 0-2 .9-2 2v14c0 1.1.9 2 2 2h14c1.1 0 2-.9 2-2V5c0-1.1-.9-2-2-2zM9 17H7v-7h2v7zm4 0h-2V7h2v10zm4 0h-2v-4h2v4z\"/>\n",
              "    </g>\n",
              "</svg>\n",
              "  </button>\n",
              "\n",
              "<style>\n",
              "  .colab-df-quickchart {\n",
              "      --bg-color: #E8F0FE;\n",
              "      --fill-color: #1967D2;\n",
              "      --hover-bg-color: #E2EBFA;\n",
              "      --hover-fill-color: #174EA6;\n",
              "      --disabled-fill-color: #AAA;\n",
              "      --disabled-bg-color: #DDD;\n",
              "  }\n",
              "\n",
              "  [theme=dark] .colab-df-quickchart {\n",
              "      --bg-color: #3B4455;\n",
              "      --fill-color: #D2E3FC;\n",
              "      --hover-bg-color: #434B5C;\n",
              "      --hover-fill-color: #FFFFFF;\n",
              "      --disabled-bg-color: #3B4455;\n",
              "      --disabled-fill-color: #666;\n",
              "  }\n",
              "\n",
              "  .colab-df-quickchart {\n",
              "    background-color: var(--bg-color);\n",
              "    border: none;\n",
              "    border-radius: 50%;\n",
              "    cursor: pointer;\n",
              "    display: none;\n",
              "    fill: var(--fill-color);\n",
              "    height: 32px;\n",
              "    padding: 0;\n",
              "    width: 32px;\n",
              "  }\n",
              "\n",
              "  .colab-df-quickchart:hover {\n",
              "    background-color: var(--hover-bg-color);\n",
              "    box-shadow: 0 1px 2px rgba(60, 64, 67, 0.3), 0 1px 3px 1px rgba(60, 64, 67, 0.15);\n",
              "    fill: var(--button-hover-fill-color);\n",
              "  }\n",
              "\n",
              "  .colab-df-quickchart-complete:disabled,\n",
              "  .colab-df-quickchart-complete:disabled:hover {\n",
              "    background-color: var(--disabled-bg-color);\n",
              "    fill: var(--disabled-fill-color);\n",
              "    box-shadow: none;\n",
              "  }\n",
              "\n",
              "  .colab-df-spinner {\n",
              "    border: 2px solid var(--fill-color);\n",
              "    border-color: transparent;\n",
              "    border-bottom-color: var(--fill-color);\n",
              "    animation:\n",
              "      spin 1s steps(1) infinite;\n",
              "  }\n",
              "\n",
              "  @keyframes spin {\n",
              "    0% {\n",
              "      border-color: transparent;\n",
              "      border-bottom-color: var(--fill-color);\n",
              "      border-left-color: var(--fill-color);\n",
              "    }\n",
              "    20% {\n",
              "      border-color: transparent;\n",
              "      border-left-color: var(--fill-color);\n",
              "      border-top-color: var(--fill-color);\n",
              "    }\n",
              "    30% {\n",
              "      border-color: transparent;\n",
              "      border-left-color: var(--fill-color);\n",
              "      border-top-color: var(--fill-color);\n",
              "      border-right-color: var(--fill-color);\n",
              "    }\n",
              "    40% {\n",
              "      border-color: transparent;\n",
              "      border-right-color: var(--fill-color);\n",
              "      border-top-color: var(--fill-color);\n",
              "    }\n",
              "    60% {\n",
              "      border-color: transparent;\n",
              "      border-right-color: var(--fill-color);\n",
              "    }\n",
              "    80% {\n",
              "      border-color: transparent;\n",
              "      border-right-color: var(--fill-color);\n",
              "      border-bottom-color: var(--fill-color);\n",
              "    }\n",
              "    90% {\n",
              "      border-color: transparent;\n",
              "      border-bottom-color: var(--fill-color);\n",
              "    }\n",
              "  }\n",
              "</style>\n",
              "\n",
              "  <script>\n",
              "    async function quickchart(key) {\n",
              "      const quickchartButtonEl =\n",
              "        document.querySelector('#' + key + ' button');\n",
              "      quickchartButtonEl.disabled = true;  // To prevent multiple clicks.\n",
              "      quickchartButtonEl.classList.add('colab-df-spinner');\n",
              "      try {\n",
              "        const charts = await google.colab.kernel.invokeFunction(\n",
              "            'suggestCharts', [key], {});\n",
              "      } catch (error) {\n",
              "        console.error('Error during call to suggestCharts:', error);\n",
              "      }\n",
              "      quickchartButtonEl.classList.remove('colab-df-spinner');\n",
              "      quickchartButtonEl.classList.add('colab-df-quickchart-complete');\n",
              "    }\n",
              "    (() => {\n",
              "      let quickchartButtonEl =\n",
              "        document.querySelector('#df-877885bd-fafd-45dd-8d67-b33e5d4f89bf button');\n",
              "      quickchartButtonEl.style.display =\n",
              "        google.colab.kernel.accessAllowed ? 'block' : 'none';\n",
              "    })();\n",
              "  </script>\n",
              "</div>\n",
              "    </div>\n",
              "  </div>\n"
            ],
            "application/vnd.google.colaboratory.intrinsic+json": {
              "type": "dataframe",
              "variable_name": "df2"
            }
          },
          "metadata": {},
          "execution_count": 16
        }
      ]
    },
    {
      "cell_type": "code",
      "source": [
        "df2.tail()"
      ],
      "metadata": {
        "colab": {
          "base_uri": "https://localhost:8080/",
          "height": 204
        },
        "id": "MTOPut0gRI_a",
        "outputId": "97521835-b8ce-4564-ca00-4096abeea0b6"
      },
      "execution_count": null,
      "outputs": [
        {
          "output_type": "execute_result",
          "data": {
            "text/plain": [
              "               0      1     2\n",
              "16167178  126071  96796   7.0\n",
              "16167179  126071  96930   5.0\n",
              "16167180  126071  97214   6.0\n",
              "16167181  126071  97655  10.0\n",
              "16167182  126071    986   NaN"
            ],
            "text/html": [
              "\n",
              "  <div id=\"df-3ffe48fd-4fba-4194-9e57-4dcdef3c7cdd\" class=\"colab-df-container\">\n",
              "    <div>\n",
              "<style scoped>\n",
              "    .dataframe tbody tr th:only-of-type {\n",
              "        vertical-align: middle;\n",
              "    }\n",
              "\n",
              "    .dataframe tbody tr th {\n",
              "        vertical-align: top;\n",
              "    }\n",
              "\n",
              "    .dataframe thead th {\n",
              "        text-align: right;\n",
              "    }\n",
              "</style>\n",
              "<table border=\"1\" class=\"dataframe\">\n",
              "  <thead>\n",
              "    <tr style=\"text-align: right;\">\n",
              "      <th></th>\n",
              "      <th>0</th>\n",
              "      <th>1</th>\n",
              "      <th>2</th>\n",
              "    </tr>\n",
              "  </thead>\n",
              "  <tbody>\n",
              "    <tr>\n",
              "      <th>16167178</th>\n",
              "      <td>126071</td>\n",
              "      <td>96796</td>\n",
              "      <td>7.0</td>\n",
              "    </tr>\n",
              "    <tr>\n",
              "      <th>16167179</th>\n",
              "      <td>126071</td>\n",
              "      <td>96930</td>\n",
              "      <td>5.0</td>\n",
              "    </tr>\n",
              "    <tr>\n",
              "      <th>16167180</th>\n",
              "      <td>126071</td>\n",
              "      <td>97214</td>\n",
              "      <td>6.0</td>\n",
              "    </tr>\n",
              "    <tr>\n",
              "      <th>16167181</th>\n",
              "      <td>126071</td>\n",
              "      <td>97655</td>\n",
              "      <td>10.0</td>\n",
              "    </tr>\n",
              "    <tr>\n",
              "      <th>16167182</th>\n",
              "      <td>126071</td>\n",
              "      <td>986</td>\n",
              "      <td>NaN</td>\n",
              "    </tr>\n",
              "  </tbody>\n",
              "</table>\n",
              "</div>\n",
              "    <div class=\"colab-df-buttons\">\n",
              "\n",
              "  <div class=\"colab-df-container\">\n",
              "    <button class=\"colab-df-convert\" onclick=\"convertToInteractive('df-3ffe48fd-4fba-4194-9e57-4dcdef3c7cdd')\"\n",
              "            title=\"Convert this dataframe to an interactive table.\"\n",
              "            style=\"display:none;\">\n",
              "\n",
              "  <svg xmlns=\"http://www.w3.org/2000/svg\" height=\"24px\" viewBox=\"0 -960 960 960\">\n",
              "    <path d=\"M120-120v-720h720v720H120Zm60-500h600v-160H180v160Zm220 220h160v-160H400v160Zm0 220h160v-160H400v160ZM180-400h160v-160H180v160Zm440 0h160v-160H620v160ZM180-180h160v-160H180v160Zm440 0h160v-160H620v160Z\"/>\n",
              "  </svg>\n",
              "    </button>\n",
              "\n",
              "  <style>\n",
              "    .colab-df-container {\n",
              "      display:flex;\n",
              "      gap: 12px;\n",
              "    }\n",
              "\n",
              "    .colab-df-convert {\n",
              "      background-color: #E8F0FE;\n",
              "      border: none;\n",
              "      border-radius: 50%;\n",
              "      cursor: pointer;\n",
              "      display: none;\n",
              "      fill: #1967D2;\n",
              "      height: 32px;\n",
              "      padding: 0 0 0 0;\n",
              "      width: 32px;\n",
              "    }\n",
              "\n",
              "    .colab-df-convert:hover {\n",
              "      background-color: #E2EBFA;\n",
              "      box-shadow: 0px 1px 2px rgba(60, 64, 67, 0.3), 0px 1px 3px 1px rgba(60, 64, 67, 0.15);\n",
              "      fill: #174EA6;\n",
              "    }\n",
              "\n",
              "    .colab-df-buttons div {\n",
              "      margin-bottom: 4px;\n",
              "    }\n",
              "\n",
              "    [theme=dark] .colab-df-convert {\n",
              "      background-color: #3B4455;\n",
              "      fill: #D2E3FC;\n",
              "    }\n",
              "\n",
              "    [theme=dark] .colab-df-convert:hover {\n",
              "      background-color: #434B5C;\n",
              "      box-shadow: 0px 1px 3px 1px rgba(0, 0, 0, 0.15);\n",
              "      filter: drop-shadow(0px 1px 2px rgba(0, 0, 0, 0.3));\n",
              "      fill: #FFFFFF;\n",
              "    }\n",
              "  </style>\n",
              "\n",
              "    <script>\n",
              "      const buttonEl =\n",
              "        document.querySelector('#df-3ffe48fd-4fba-4194-9e57-4dcdef3c7cdd button.colab-df-convert');\n",
              "      buttonEl.style.display =\n",
              "        google.colab.kernel.accessAllowed ? 'block' : 'none';\n",
              "\n",
              "      async function convertToInteractive(key) {\n",
              "        const element = document.querySelector('#df-3ffe48fd-4fba-4194-9e57-4dcdef3c7cdd');\n",
              "        const dataTable =\n",
              "          await google.colab.kernel.invokeFunction('convertToInteractive',\n",
              "                                                    [key], {});\n",
              "        if (!dataTable) return;\n",
              "\n",
              "        const docLinkHtml = 'Like what you see? Visit the ' +\n",
              "          '<a target=\"_blank\" href=https://colab.research.google.com/notebooks/data_table.ipynb>data table notebook</a>'\n",
              "          + ' to learn more about interactive tables.';\n",
              "        element.innerHTML = '';\n",
              "        dataTable['output_type'] = 'display_data';\n",
              "        await google.colab.output.renderOutput(dataTable, element);\n",
              "        const docLink = document.createElement('div');\n",
              "        docLink.innerHTML = docLinkHtml;\n",
              "        element.appendChild(docLink);\n",
              "      }\n",
              "    </script>\n",
              "  </div>\n",
              "\n",
              "\n",
              "<div id=\"df-80c6e02b-2849-4a6e-9d85-cea17c83a715\">\n",
              "  <button class=\"colab-df-quickchart\" onclick=\"quickchart('df-80c6e02b-2849-4a6e-9d85-cea17c83a715')\"\n",
              "            title=\"Suggest charts\"\n",
              "            style=\"display:none;\">\n",
              "\n",
              "<svg xmlns=\"http://www.w3.org/2000/svg\" height=\"24px\"viewBox=\"0 0 24 24\"\n",
              "     width=\"24px\">\n",
              "    <g>\n",
              "        <path d=\"M19 3H5c-1.1 0-2 .9-2 2v14c0 1.1.9 2 2 2h14c1.1 0 2-.9 2-2V5c0-1.1-.9-2-2-2zM9 17H7v-7h2v7zm4 0h-2V7h2v10zm4 0h-2v-4h2v4z\"/>\n",
              "    </g>\n",
              "</svg>\n",
              "  </button>\n",
              "\n",
              "<style>\n",
              "  .colab-df-quickchart {\n",
              "      --bg-color: #E8F0FE;\n",
              "      --fill-color: #1967D2;\n",
              "      --hover-bg-color: #E2EBFA;\n",
              "      --hover-fill-color: #174EA6;\n",
              "      --disabled-fill-color: #AAA;\n",
              "      --disabled-bg-color: #DDD;\n",
              "  }\n",
              "\n",
              "  [theme=dark] .colab-df-quickchart {\n",
              "      --bg-color: #3B4455;\n",
              "      --fill-color: #D2E3FC;\n",
              "      --hover-bg-color: #434B5C;\n",
              "      --hover-fill-color: #FFFFFF;\n",
              "      --disabled-bg-color: #3B4455;\n",
              "      --disabled-fill-color: #666;\n",
              "  }\n",
              "\n",
              "  .colab-df-quickchart {\n",
              "    background-color: var(--bg-color);\n",
              "    border: none;\n",
              "    border-radius: 50%;\n",
              "    cursor: pointer;\n",
              "    display: none;\n",
              "    fill: var(--fill-color);\n",
              "    height: 32px;\n",
              "    padding: 0;\n",
              "    width: 32px;\n",
              "  }\n",
              "\n",
              "  .colab-df-quickchart:hover {\n",
              "    background-color: var(--hover-bg-color);\n",
              "    box-shadow: 0 1px 2px rgba(60, 64, 67, 0.3), 0 1px 3px 1px rgba(60, 64, 67, 0.15);\n",
              "    fill: var(--button-hover-fill-color);\n",
              "  }\n",
              "\n",
              "  .colab-df-quickchart-complete:disabled,\n",
              "  .colab-df-quickchart-complete:disabled:hover {\n",
              "    background-color: var(--disabled-bg-color);\n",
              "    fill: var(--disabled-fill-color);\n",
              "    box-shadow: none;\n",
              "  }\n",
              "\n",
              "  .colab-df-spinner {\n",
              "    border: 2px solid var(--fill-color);\n",
              "    border-color: transparent;\n",
              "    border-bottom-color: var(--fill-color);\n",
              "    animation:\n",
              "      spin 1s steps(1) infinite;\n",
              "  }\n",
              "\n",
              "  @keyframes spin {\n",
              "    0% {\n",
              "      border-color: transparent;\n",
              "      border-bottom-color: var(--fill-color);\n",
              "      border-left-color: var(--fill-color);\n",
              "    }\n",
              "    20% {\n",
              "      border-color: transparent;\n",
              "      border-left-color: var(--fill-color);\n",
              "      border-top-color: var(--fill-color);\n",
              "    }\n",
              "    30% {\n",
              "      border-color: transparent;\n",
              "      border-left-color: var(--fill-color);\n",
              "      border-top-color: var(--fill-color);\n",
              "      border-right-color: var(--fill-color);\n",
              "    }\n",
              "    40% {\n",
              "      border-color: transparent;\n",
              "      border-right-color: var(--fill-color);\n",
              "      border-top-color: var(--fill-color);\n",
              "    }\n",
              "    60% {\n",
              "      border-color: transparent;\n",
              "      border-right-color: var(--fill-color);\n",
              "    }\n",
              "    80% {\n",
              "      border-color: transparent;\n",
              "      border-right-color: var(--fill-color);\n",
              "      border-bottom-color: var(--fill-color);\n",
              "    }\n",
              "    90% {\n",
              "      border-color: transparent;\n",
              "      border-bottom-color: var(--fill-color);\n",
              "    }\n",
              "  }\n",
              "</style>\n",
              "\n",
              "  <script>\n",
              "    async function quickchart(key) {\n",
              "      const quickchartButtonEl =\n",
              "        document.querySelector('#' + key + ' button');\n",
              "      quickchartButtonEl.disabled = true;  // To prevent multiple clicks.\n",
              "      quickchartButtonEl.classList.add('colab-df-spinner');\n",
              "      try {\n",
              "        const charts = await google.colab.kernel.invokeFunction(\n",
              "            'suggestCharts', [key], {});\n",
              "      } catch (error) {\n",
              "        console.error('Error during call to suggestCharts:', error);\n",
              "      }\n",
              "      quickchartButtonEl.classList.remove('colab-df-spinner');\n",
              "      quickchartButtonEl.classList.add('colab-df-quickchart-complete');\n",
              "    }\n",
              "    (() => {\n",
              "      let quickchartButtonEl =\n",
              "        document.querySelector('#df-80c6e02b-2849-4a6e-9d85-cea17c83a715 button');\n",
              "      quickchartButtonEl.style.display =\n",
              "        google.colab.kernel.accessAllowed ? 'block' : 'none';\n",
              "    })();\n",
              "  </script>\n",
              "</div>\n",
              "    </div>\n",
              "  </div>\n"
            ],
            "application/vnd.google.colaboratory.intrinsic+json": {
              "type": "dataframe",
              "summary": "{\n  \"name\": \"df2\",\n  \"rows\": 5,\n  \"fields\": [\n    {\n      \"column\": 0,\n      \"properties\": {\n        \"dtype\": \"number\",\n        \"std\": 0,\n        \"min\": 126071,\n        \"max\": 126071,\n        \"num_unique_values\": 1,\n        \"samples\": [\n          126071\n        ],\n        \"semantic_type\": \"\",\n        \"description\": \"\"\n      }\n    },\n    {\n      \"column\": 1,\n      \"properties\": {\n        \"dtype\": \"number\",\n        \"std\": 43006,\n        \"min\": 986,\n        \"max\": 97655,\n        \"num_unique_values\": 5,\n        \"samples\": [\n          96930\n        ],\n        \"semantic_type\": \"\",\n        \"description\": \"\"\n      }\n    },\n    {\n      \"column\": 2,\n      \"properties\": {\n        \"dtype\": \"number\",\n        \"std\": 2.160246899469287,\n        \"min\": 5.0,\n        \"max\": 10.0,\n        \"num_unique_values\": 4,\n        \"samples\": [\n          5.0\n        ],\n        \"semantic_type\": \"\",\n        \"description\": \"\"\n      }\n    }\n  ]\n}"
            }
          },
          "metadata": {},
          "execution_count": 17
        }
      ]
    },
    {
      "cell_type": "code",
      "source": [
        "# rename columns\n",
        "df2.columns = [\"user1\", \"user2\", \"rating\"]"
      ],
      "metadata": {
        "id": "vTCyhfh1bRg1"
      },
      "execution_count": null,
      "outputs": []
    },
    {
      "cell_type": "code",
      "source": [
        "df2.head()"
      ],
      "metadata": {
        "colab": {
          "base_uri": "https://localhost:8080/",
          "height": 204
        },
        "id": "e79dB2-tau_q",
        "outputId": "7c76b06b-28db-4d67-d972-af617e9d41f1"
      },
      "execution_count": null,
      "outputs": [
        {
          "output_type": "execute_result",
          "data": {
            "text/plain": [
              "   user1  user2  rating\n",
              "0      1    133     8.0\n",
              "1      1    720     6.0\n",
              "2      1    971    10.0\n",
              "3      1   1095     7.0\n",
              "4      1   1616    10.0"
            ],
            "text/html": [
              "\n",
              "  <div id=\"df-fa3cd534-fc2c-463c-a505-ef3eadda98f8\" class=\"colab-df-container\">\n",
              "    <div>\n",
              "<style scoped>\n",
              "    .dataframe tbody tr th:only-of-type {\n",
              "        vertical-align: middle;\n",
              "    }\n",
              "\n",
              "    .dataframe tbody tr th {\n",
              "        vertical-align: top;\n",
              "    }\n",
              "\n",
              "    .dataframe thead th {\n",
              "        text-align: right;\n",
              "    }\n",
              "</style>\n",
              "<table border=\"1\" class=\"dataframe\">\n",
              "  <thead>\n",
              "    <tr style=\"text-align: right;\">\n",
              "      <th></th>\n",
              "      <th>user1</th>\n",
              "      <th>user2</th>\n",
              "      <th>rating</th>\n",
              "    </tr>\n",
              "  </thead>\n",
              "  <tbody>\n",
              "    <tr>\n",
              "      <th>0</th>\n",
              "      <td>1</td>\n",
              "      <td>133</td>\n",
              "      <td>8.0</td>\n",
              "    </tr>\n",
              "    <tr>\n",
              "      <th>1</th>\n",
              "      <td>1</td>\n",
              "      <td>720</td>\n",
              "      <td>6.0</td>\n",
              "    </tr>\n",
              "    <tr>\n",
              "      <th>2</th>\n",
              "      <td>1</td>\n",
              "      <td>971</td>\n",
              "      <td>10.0</td>\n",
              "    </tr>\n",
              "    <tr>\n",
              "      <th>3</th>\n",
              "      <td>1</td>\n",
              "      <td>1095</td>\n",
              "      <td>7.0</td>\n",
              "    </tr>\n",
              "    <tr>\n",
              "      <th>4</th>\n",
              "      <td>1</td>\n",
              "      <td>1616</td>\n",
              "      <td>10.0</td>\n",
              "    </tr>\n",
              "  </tbody>\n",
              "</table>\n",
              "</div>\n",
              "    <div class=\"colab-df-buttons\">\n",
              "\n",
              "  <div class=\"colab-df-container\">\n",
              "    <button class=\"colab-df-convert\" onclick=\"convertToInteractive('df-fa3cd534-fc2c-463c-a505-ef3eadda98f8')\"\n",
              "            title=\"Convert this dataframe to an interactive table.\"\n",
              "            style=\"display:none;\">\n",
              "\n",
              "  <svg xmlns=\"http://www.w3.org/2000/svg\" height=\"24px\" viewBox=\"0 -960 960 960\">\n",
              "    <path d=\"M120-120v-720h720v720H120Zm60-500h600v-160H180v160Zm220 220h160v-160H400v160Zm0 220h160v-160H400v160ZM180-400h160v-160H180v160Zm440 0h160v-160H620v160ZM180-180h160v-160H180v160Zm440 0h160v-160H620v160Z\"/>\n",
              "  </svg>\n",
              "    </button>\n",
              "\n",
              "  <style>\n",
              "    .colab-df-container {\n",
              "      display:flex;\n",
              "      gap: 12px;\n",
              "    }\n",
              "\n",
              "    .colab-df-convert {\n",
              "      background-color: #E8F0FE;\n",
              "      border: none;\n",
              "      border-radius: 50%;\n",
              "      cursor: pointer;\n",
              "      display: none;\n",
              "      fill: #1967D2;\n",
              "      height: 32px;\n",
              "      padding: 0 0 0 0;\n",
              "      width: 32px;\n",
              "    }\n",
              "\n",
              "    .colab-df-convert:hover {\n",
              "      background-color: #E2EBFA;\n",
              "      box-shadow: 0px 1px 2px rgba(60, 64, 67, 0.3), 0px 1px 3px 1px rgba(60, 64, 67, 0.15);\n",
              "      fill: #174EA6;\n",
              "    }\n",
              "\n",
              "    .colab-df-buttons div {\n",
              "      margin-bottom: 4px;\n",
              "    }\n",
              "\n",
              "    [theme=dark] .colab-df-convert {\n",
              "      background-color: #3B4455;\n",
              "      fill: #D2E3FC;\n",
              "    }\n",
              "\n",
              "    [theme=dark] .colab-df-convert:hover {\n",
              "      background-color: #434B5C;\n",
              "      box-shadow: 0px 1px 3px 1px rgba(0, 0, 0, 0.15);\n",
              "      filter: drop-shadow(0px 1px 2px rgba(0, 0, 0, 0.3));\n",
              "      fill: #FFFFFF;\n",
              "    }\n",
              "  </style>\n",
              "\n",
              "    <script>\n",
              "      const buttonEl =\n",
              "        document.querySelector('#df-fa3cd534-fc2c-463c-a505-ef3eadda98f8 button.colab-df-convert');\n",
              "      buttonEl.style.display =\n",
              "        google.colab.kernel.accessAllowed ? 'block' : 'none';\n",
              "\n",
              "      async function convertToInteractive(key) {\n",
              "        const element = document.querySelector('#df-fa3cd534-fc2c-463c-a505-ef3eadda98f8');\n",
              "        const dataTable =\n",
              "          await google.colab.kernel.invokeFunction('convertToInteractive',\n",
              "                                                    [key], {});\n",
              "        if (!dataTable) return;\n",
              "\n",
              "        const docLinkHtml = 'Like what you see? Visit the ' +\n",
              "          '<a target=\"_blank\" href=https://colab.research.google.com/notebooks/data_table.ipynb>data table notebook</a>'\n",
              "          + ' to learn more about interactive tables.';\n",
              "        element.innerHTML = '';\n",
              "        dataTable['output_type'] = 'display_data';\n",
              "        await google.colab.output.renderOutput(dataTable, element);\n",
              "        const docLink = document.createElement('div');\n",
              "        docLink.innerHTML = docLinkHtml;\n",
              "        element.appendChild(docLink);\n",
              "      }\n",
              "    </script>\n",
              "  </div>\n",
              "\n",
              "\n",
              "<div id=\"df-33a0fde5-87b8-41b7-af80-de963d266756\">\n",
              "  <button class=\"colab-df-quickchart\" onclick=\"quickchart('df-33a0fde5-87b8-41b7-af80-de963d266756')\"\n",
              "            title=\"Suggest charts\"\n",
              "            style=\"display:none;\">\n",
              "\n",
              "<svg xmlns=\"http://www.w3.org/2000/svg\" height=\"24px\"viewBox=\"0 0 24 24\"\n",
              "     width=\"24px\">\n",
              "    <g>\n",
              "        <path d=\"M19 3H5c-1.1 0-2 .9-2 2v14c0 1.1.9 2 2 2h14c1.1 0 2-.9 2-2V5c0-1.1-.9-2-2-2zM9 17H7v-7h2v7zm4 0h-2V7h2v10zm4 0h-2v-4h2v4z\"/>\n",
              "    </g>\n",
              "</svg>\n",
              "  </button>\n",
              "\n",
              "<style>\n",
              "  .colab-df-quickchart {\n",
              "      --bg-color: #E8F0FE;\n",
              "      --fill-color: #1967D2;\n",
              "      --hover-bg-color: #E2EBFA;\n",
              "      --hover-fill-color: #174EA6;\n",
              "      --disabled-fill-color: #AAA;\n",
              "      --disabled-bg-color: #DDD;\n",
              "  }\n",
              "\n",
              "  [theme=dark] .colab-df-quickchart {\n",
              "      --bg-color: #3B4455;\n",
              "      --fill-color: #D2E3FC;\n",
              "      --hover-bg-color: #434B5C;\n",
              "      --hover-fill-color: #FFFFFF;\n",
              "      --disabled-bg-color: #3B4455;\n",
              "      --disabled-fill-color: #666;\n",
              "  }\n",
              "\n",
              "  .colab-df-quickchart {\n",
              "    background-color: var(--bg-color);\n",
              "    border: none;\n",
              "    border-radius: 50%;\n",
              "    cursor: pointer;\n",
              "    display: none;\n",
              "    fill: var(--fill-color);\n",
              "    height: 32px;\n",
              "    padding: 0;\n",
              "    width: 32px;\n",
              "  }\n",
              "\n",
              "  .colab-df-quickchart:hover {\n",
              "    background-color: var(--hover-bg-color);\n",
              "    box-shadow: 0 1px 2px rgba(60, 64, 67, 0.3), 0 1px 3px 1px rgba(60, 64, 67, 0.15);\n",
              "    fill: var(--button-hover-fill-color);\n",
              "  }\n",
              "\n",
              "  .colab-df-quickchart-complete:disabled,\n",
              "  .colab-df-quickchart-complete:disabled:hover {\n",
              "    background-color: var(--disabled-bg-color);\n",
              "    fill: var(--disabled-fill-color);\n",
              "    box-shadow: none;\n",
              "  }\n",
              "\n",
              "  .colab-df-spinner {\n",
              "    border: 2px solid var(--fill-color);\n",
              "    border-color: transparent;\n",
              "    border-bottom-color: var(--fill-color);\n",
              "    animation:\n",
              "      spin 1s steps(1) infinite;\n",
              "  }\n",
              "\n",
              "  @keyframes spin {\n",
              "    0% {\n",
              "      border-color: transparent;\n",
              "      border-bottom-color: var(--fill-color);\n",
              "      border-left-color: var(--fill-color);\n",
              "    }\n",
              "    20% {\n",
              "      border-color: transparent;\n",
              "      border-left-color: var(--fill-color);\n",
              "      border-top-color: var(--fill-color);\n",
              "    }\n",
              "    30% {\n",
              "      border-color: transparent;\n",
              "      border-left-color: var(--fill-color);\n",
              "      border-top-color: var(--fill-color);\n",
              "      border-right-color: var(--fill-color);\n",
              "    }\n",
              "    40% {\n",
              "      border-color: transparent;\n",
              "      border-right-color: var(--fill-color);\n",
              "      border-top-color: var(--fill-color);\n",
              "    }\n",
              "    60% {\n",
              "      border-color: transparent;\n",
              "      border-right-color: var(--fill-color);\n",
              "    }\n",
              "    80% {\n",
              "      border-color: transparent;\n",
              "      border-right-color: var(--fill-color);\n",
              "      border-bottom-color: var(--fill-color);\n",
              "    }\n",
              "    90% {\n",
              "      border-color: transparent;\n",
              "      border-bottom-color: var(--fill-color);\n",
              "    }\n",
              "  }\n",
              "</style>\n",
              "\n",
              "  <script>\n",
              "    async function quickchart(key) {\n",
              "      const quickchartButtonEl =\n",
              "        document.querySelector('#' + key + ' button');\n",
              "      quickchartButtonEl.disabled = true;  // To prevent multiple clicks.\n",
              "      quickchartButtonEl.classList.add('colab-df-spinner');\n",
              "      try {\n",
              "        const charts = await google.colab.kernel.invokeFunction(\n",
              "            'suggestCharts', [key], {});\n",
              "      } catch (error) {\n",
              "        console.error('Error during call to suggestCharts:', error);\n",
              "      }\n",
              "      quickchartButtonEl.classList.remove('colab-df-spinner');\n",
              "      quickchartButtonEl.classList.add('colab-df-quickchart-complete');\n",
              "    }\n",
              "    (() => {\n",
              "      let quickchartButtonEl =\n",
              "        document.querySelector('#df-33a0fde5-87b8-41b7-af80-de963d266756 button');\n",
              "      quickchartButtonEl.style.display =\n",
              "        google.colab.kernel.accessAllowed ? 'block' : 'none';\n",
              "    })();\n",
              "  </script>\n",
              "</div>\n",
              "    </div>\n",
              "  </div>\n"
            ],
            "application/vnd.google.colaboratory.intrinsic+json": {
              "type": "dataframe",
              "variable_name": "df2"
            }
          },
          "metadata": {},
          "execution_count": 17
        }
      ]
    },
    {
      "cell_type": "code",
      "source": [
        "# check data types of columns 1 and 2\n",
        "#print(df2[[\"user1\",\"user2\",\"rating\"]].dtypes"
      ],
      "metadata": {
        "id": "d88ZDksEQhmL"
      },
      "execution_count": null,
      "outputs": []
    },
    {
      "cell_type": "code",
      "source": [
        "# Check unique values in columns 1 and 2\n",
        "print(\"Unique values in column user1:\", df2[\"user1\"].unique())\n",
        "print(\"Unique values in column user2:\", df2[\"user2\"].unique())\n",
        "print(\"Unique values in colum rating:\", df2[\"rating\"].unique())"
      ],
      "metadata": {
        "colab": {
          "base_uri": "https://localhost:8080/"
        },
        "id": "P1RsiFHxSRFA",
        "outputId": "bcb2c724-7339-4a3b-e696-75147011b3a7"
      },
      "execution_count": null,
      "outputs": [
        {
          "output_type": "stream",
          "name": "stdout",
          "text": [
            "Unique values in column user1: [     1      2      3 ... 126069 126070 126071]\n",
            "Unique values in column user2: [   133    720    971 ... 114524  54186    986]\n",
            "Unique values in colum rating: [ 8.  6. 10.  7.  3.  5.  9.  4.  1.  2. nan]\n"
          ]
        }
      ]
    },
    {
      "cell_type": "markdown",
      "source": [
        "1: The first row contains column headers or metadata, indicated by the values '%', 'directed'. and 'weighted'.\n",
        "2: Column 1 and 2 contain a mix of numeric values and strings('directed', 'weighted'), resulting in theor data type being identified as object.\n",
        "3: the unique values in columns 1 and 2 are ['directed', nan] and['weighted', nan], respectively. we will follow the next step to preprocess the data and model."
      ],
      "metadata": {
        "id": "TNnkGjF6W206"
      }
    },
    {
      "cell_type": "code",
      "source": [
        "# skip the first row(header)\n",
        "#df  = df.iloc[1:]\n",
        "\n",
        "# Rename columns\n",
        "#df.columns = [\"user1\", \"user2\", \"rating\"]\n"
      ],
      "metadata": {
        "id": "xwiKWUMz1WrD"
      },
      "execution_count": null,
      "outputs": []
    },
    {
      "cell_type": "code",
      "source": [
        "# Extract numeric values from 'user1' and 'user2' columns using regular expression\n",
        "#df[['user1_0', 'user1_1', 'rating']] = df['user1'].str.extract(r'(\\d+),(\\d+),(\\d+)')\n",
        "#df[['user2_0', 'user2_1', 'user2_2']] = df['user2'].str.extract(r'(\\d+),(\\d+),(\\d+)')#.unstack().astype(float)\n",
        "\n"
      ],
      "metadata": {
        "id": "ZPQ34WPXFyaL"
      },
      "execution_count": null,
      "outputs": []
    },
    {
      "cell_type": "code",
      "source": [
        "# Split comma-separated values in user1 column\n",
        "#df[['user1_0', 'user1_1', 'user1_rating']] = df['user1'].str.split(',',1, expand=True)"
      ],
      "metadata": {
        "id": "0xR0d61FmPTJ"
      },
      "execution_count": null,
      "outputs": []
    },
    {
      "cell_type": "code",
      "source": [
        "# Fill missing values with -1\n",
        "#df.fillna(-1, inplace=True)\n"
      ],
      "metadata": {
        "id": "cvsN-G-tlhQl"
      },
      "execution_count": null,
      "outputs": []
    },
    {
      "cell_type": "code",
      "source": [
        "# Convert the extracted numeric values to integers\n",
        "#for col in ['user1_0', 'user1_1', 'rating', 'user2_0', 'user2_1', 'user2_2']:\n",
        " # df[col] = pd.to_numeric(df[col], errors='coerce')\n"
      ],
      "metadata": {
        "id": "XtWFY7VdF1Bj"
      },
      "execution_count": null,
      "outputs": []
    },
    {
      "cell_type": "code",
      "source": [],
      "metadata": {
        "id": "gADPXHxO-ok3"
      },
      "execution_count": null,
      "outputs": []
    },
    {
      "cell_type": "code",
      "source": [
        "# check for mising values\n",
        "df2.isnull().sum()"
      ],
      "metadata": {
        "colab": {
          "base_uri": "https://localhost:8080/"
        },
        "id": "DSDhST_VAitU",
        "outputId": "3443fea3-9487-4e98-f213-71375abb89e3"
      },
      "execution_count": null,
      "outputs": [
        {
          "output_type": "execute_result",
          "data": {
            "text/plain": [
              "user1     0\n",
              "user2     0\n",
              "rating    1\n",
              "dtype: int64"
            ]
          },
          "metadata": {},
          "execution_count": 47
        }
      ]
    },
    {
      "cell_type": "code",
      "source": [
        "# one missing  value, we will drop it\n"
      ],
      "metadata": {
        "id": "CeFFGBImd0Yl"
      },
      "execution_count": null,
      "outputs": []
    },
    {
      "cell_type": "code",
      "source": [
        "# Skip the first row (header)\n",
        "#df = df.iloc[1:]\n",
        "\n",
        "# Rename columns\n",
        "#df.columns = [\"user1\", \"user2\", \"rating\"]\n",
        "\n",
        "# Split the values in columns 'user1' and 'user2' by comma and expand them into separate columns\n",
        "#user1_split = df['user1'].str.split(',', expand=True)\n",
        "#user2_split = df['user2'].str.split(',', expand=True)\n",
        "\n",
        "# Ensure that the number of columns generated by splitting matches the number of columns specified for expansion\n",
        "#user1_columns = ['user1_' + str(i) for i in range(len(user1_split.columns))]\n",
        "#user2_columns = ['user2_' + str(i) for i in range(len(user2_split.columns))]\n",
        "\n",
        "# Assign the split values to the DataFrame\n",
        "#df[user1_columns] = user1_split\n",
        "#df[user2_columns] = user2_split\n",
        "\n",
        "# Convert the extracted numeric values to integers\n",
        "#for col in user1_columns + user2_columns:\n",
        " #   df[col] = pd.to_numeric(df[col], errors='coerce')\n",
        "\n",
        "# Drop the original 'user1' and 'user2' columns along with the extra columns generated by splitting\n",
        "#df.drop(columns=['user1', 'user2'] + user1_columns[1:] + user2_columns[1:], inplace=True)\n",
        "\n",
        "# Display the first few rows\n",
        "#print(df.head())\n"
      ],
      "metadata": {
        "id": "W029TlyvegMg"
      },
      "execution_count": null,
      "outputs": []
    },
    {
      "cell_type": "code",
      "source": [],
      "metadata": {
        "id": "x1-XnY5-zSLL"
      },
      "execution_count": null,
      "outputs": []
    },
    {
      "cell_type": "markdown",
      "source": [],
      "metadata": {
        "id": "qbmeK2lgW2Ke"
      }
    },
    {
      "cell_type": "code",
      "source": [
        "# skip the first row (header)\n",
        "#df = df.iloc[1:]\n",
        "\n",
        "# Rename columns\n",
        "#df.columns = [\"user1\", \"user2\", \"rating\"]\n",
        "\n",
        "\n",
        "# Split the values in columns 'user1' and 'user2' by comma and expand them into separate columns\n",
        "#df[['user1', 'user1_temp', 'user1_rating']] = df['user1'].str.split(',', expand=True)\n",
        "#df[['user2', 'user2_temp', 'user2_rating']] = df['user2'].str.split(',', expand=True)\n",
        "\n",
        "# Convert the extracted numeric values to integers\n",
        "#df['user1'] = pd.to_numeric(df['user1'], errors='coerce')\n",
        "#df['user2'] = pd.to_numeric(df['user2'], errors='coerce')\n",
        "\n",
        "# Drop temporary columns\n",
        "#df.drop(columns=['user1_temp', 'user1_rating', 'user2_temp', 'user2_rating'], inplace=True)\n",
        "\n",
        "\n",
        "\n",
        "# Convert columns 1 and 2 to numeric data types\n",
        "#df[[\"user1\", \"user2\"]] = df[[\"user1\", \"user2\"]].apply(pd.to_numeric, errors='coerce')\n",
        "\n",
        "# Display the first few rows\n",
        "#print(df.head())"
      ],
      "metadata": {
        "id": "e6eCzvNQYYR6"
      },
      "execution_count": null,
      "outputs": []
    },
    {
      "cell_type": "code",
      "source": [
        "# Skip the first row (header)\n",
        "#df = df.iloc[1:]\n",
        "\n",
        "# Rename columns\n",
        "#df.columns = [\"user1\", \"user2\", \"rating\"]\n",
        "\n",
        "# Split the values in columns 'user1' and 'user2' by comma and expand them into separate columns\n",
        "#df[['user1', 'user1_temp', 'user1_rating']] = df['user1'].str.split(',', expand=True)\n",
        "#df[['user2', 'user2_temp', 'user2_rating']] = df['user2'].str.split(',', expand=True)\n",
        "\n",
        "# Convert the extracted numeric values to integers\n",
        "#df['user1'] = pd.to_numeric(df['user1'], errors='coerce')\n",
        "#df['user2'] = pd.to_numeric(df['user2'], errors='coerce')\n",
        "\n",
        "# Drop temporary columns\n",
        "#df.drop(columns=['user1_temp', 'user1_rating', 'user2_temp', 'user2_rating'], inplace=True)\n",
        "\n",
        "# Display the first few rows\n",
        "#print(df.head())\n"
      ],
      "metadata": {
        "id": "ub_UKPmEcLT_"
      },
      "execution_count": null,
      "outputs": []
    },
    {
      "cell_type": "code",
      "source": [
        "# any any row with NAN values\n",
        "df2.dropna(inplace=True)"
      ],
      "metadata": {
        "id": "MSLtse7ijBa8"
      },
      "execution_count": null,
      "outputs": []
    },
    {
      "cell_type": "code",
      "source": [
        "# onfirm missing values are dropped\n",
        "df2.isnull().sum()"
      ],
      "metadata": {
        "colab": {
          "base_uri": "https://localhost:8080/"
        },
        "id": "oM_iTN4b5pFo",
        "outputId": "41c3ab85-2edc-42ed-ce6e-006978123856"
      },
      "execution_count": null,
      "outputs": [
        {
          "output_type": "execute_result",
          "data": {
            "text/plain": [
              "user1     0\n",
              "user2     0\n",
              "rating    0\n",
              "dtype: int64"
            ]
          },
          "metadata": {},
          "execution_count": 6
        }
      ]
    },
    {
      "cell_type": "code",
      "source": [
        "#checking the shape for item number\n",
        "df2.shape"
      ],
      "metadata": {
        "colab": {
          "base_uri": "https://localhost:8080/"
        },
        "id": "-fIltZgJiQYC",
        "outputId": "edd0a730-51d5-4cab-8a7e-94d8aa6e543d"
      },
      "execution_count": null,
      "outputs": [
        {
          "output_type": "execute_result",
          "data": {
            "text/plain": [
              "(16167182, 3)"
            ]
          },
          "metadata": {},
          "execution_count": 54
        }
      ]
    },
    {
      "cell_type": "code",
      "source": [
        "\n",
        "\n",
        "#reading the original data\n",
        "df2 = pd.read_csv(\"libimseti.edges\", skiprows=1, header=None)\n",
        "\n",
        "# rename columns\n",
        "df2.columns = [\"user1\", \"user2\", \"rating\"]\n",
        "\n",
        "# any any row with NAN values\n",
        "df2.dropna(inplace=True)\n",
        "\n",
        "# Split the dataset into training and   test sets\n",
        "train_df, test_df =  train_test_split(df2, test_size=20, random_state=42)\n",
        "\n",
        "# Convert the data into Tensorflow dataset\n",
        "train_dataset = tf.data.dataset.from_tensor_slices((train_df[\"user1\"], train_df[\"user2\"], train_df[\"rating\"]))\n",
        "test_dataset = tf.data.dataset.from_tensor_slices((test_df[\"user1\"], test_df[\"user2\"], test_df[\"rating\"]))\n",
        "\n",
        "# Shuffle and batch the dataset\n",
        "BATCH_SIZE = 64\n",
        "train_dataset = train_dataset.shuffle(len(train_df)).batch(BATCH_SIZE)\n",
        "test_dataset = test_dataset.batch(BATCH_SIZE)\n",
        "\n",
        "# Determine num_users and num_items from the training dataset\n",
        "num_users = train_df[\"user1\"].max() + 1\n",
        "num_items = train_df[\"user2\"].max() + 1\n",
        "\n",
        "# Define the recommendation model(NCF)\n",
        "class RecommendationModel(tf.keras.Model):\n",
        "  def __init__(self, num_users, num_items, embedding_dim=64):\n",
        "      super(RecommendationModel, self).__init__()\n",
        "      self.user_embedding = tf.keras.layers.Embedding(num_users, embedding_dim)\n",
        "      self.item_embedding = tf.keras.layers.Embedding(num_items, embedding_dim)\n",
        "      self.concat = tf.keras.layers.Concatenate()\n",
        "      self.dense1 = tf.keras.layers.Dense(64, activation=\"relu\")\n",
        "      self.dense2 = tf.keras.layers.Dense(64, activation=\"sigmoid\")\n",
        "\n",
        "    #self.dot = tf.keras.layers.Dot(axes=1)\n",
        "\n",
        "  def call(self, user_id, item_id):\n",
        "      user_emb = self.user_embedding(user_id)\n",
        "      item_emb = self.item_embedding(item_id)\n",
        "      concat_emb = self.concat([user_emb, item_emb])\n",
        "      densel_out = self.dense1(concat_emb)\n",
        "      output = self.dense2(dense1 out)\n",
        "      return output\n",
        "      #return tf.squeez(self.dot([user_emb, item_emb]), axis=-1)\n",
        "\n",
        "\n",
        "\n",
        "# Determine num_users and num_items from the training dataset\n",
        "# num_users = df2[\"user_id\"].nunique() # assuming user_id is the user identifier\n",
        "# num_items = df2[\"item_id\"].nunique() # Assuming item_id represent profiles\n",
        "\n",
        "# Initialise and compile the model\n",
        "model = RecommendationMondel(num_users, num_items)\n",
        "model.compile(optimizer=\"adam\", loss=\"binary_crossentropy\", metrics=\"accuracy\")\n",
        "\n",
        "# Train The Model\n",
        "history = model.fit(train_dataset, epoch=10, validation_data=test_dataset)\n",
        "\n",
        "# Evaluate the model\n",
        "loss = model.evaluate(test_dataset)\n",
        "print(\"Test loss:\", loss)\n"
      ],
      "metadata": {
        "id": "efTANH4seE5u"
      },
      "execution_count": null,
      "outputs": []
    },
    {
      "cell_type": "code",
      "source": [
        "# Split the dataset into training and   test sets\n",
        "train_df, test_df =  train_test_split(df2, test_size=20, random_state=42)\n",
        "\n",
        "# Convert the data into Tensorflow dataset\n",
        "train_dataset = tf.data.dataset.from_tensor_slices((train_df[\"user1\"], train_df[\"user2\"], train_df[\"rating\"]))\n",
        "test_dataset = tf.data.dataset.from_tensor_slices((test_df[\"user1\"], test_df[\"user2\"], test_df[\"rating\"]))"
      ],
      "metadata": {
        "id": "aHnXWUbmHe7I"
      },
      "execution_count": null,
      "outputs": []
    },
    {
      "cell_type": "code",
      "source": [
        "# Shuffle and batch the dataset\n",
        "BATCH_SIZE = 64\n",
        "train_dataset = train_dataset.shuffle(len(train_df)).batch(BATCH_SIZE)\n",
        "test_dataset = test_dataset.batch(BATCH_SIZE)"
      ],
      "metadata": {
        "id": "O6LejraYLgjo"
      },
      "execution_count": null,
      "outputs": []
    },
    {
      "cell_type": "code",
      "source": [
        "# Determine num_users and num_items from the training dataset\n",
        "num_users = train_df[\"user1\"].max() + 1\n",
        "num_items = train_df[\"user2\"].max() + 1\n",
        "\n",
        "# Define the recommendation model\n",
        "class RecommendationModel(tf.keras.Model):\n",
        "  def __init__(self, num_users, num_items, embedding_dim[=64]):\n",
        "    super(RecommendationModel, self).__init__()\n",
        "    self.user_embedding = tf.keras.layers.Embedding(num_users, embedding_dim)\n",
        "    self.item_embedding = tf.keras.layers.Embedding(num_items, embedding_dim)\n",
        "    self.dot = tf.keras.layers.Dot(axes=1)\n",
        "\n",
        "    def call(self, user_id, item_id):\n",
        "      user_emb = self.user_embedding(user_id)\n",
        "      item_emb = self.item_embedding(item_id)\n",
        "      return tf.squeez(self.dot([user_emb, item_emb]), axis=-1)\n",
        "\n",
        "\n",
        "# Initialise and compile the model\n",
        "model = RecommendationMondel(num_users, num_items)\n",
        "model.compile(optimizer=\"adam\", loss=\"mse\")\n",
        "\n",
        "# Train The Model\n",
        "history = model.fit(train_dataset, epoch=10, validation_data=test_dataset)\n",
        "\n",
        "# Evaluate the model\n",
        "loss = model.evaluate(test_dataset)\n",
        "print(\"Test loss:\", loss)\n"
      ],
      "metadata": {
        "id": "GnT6YqwXMm6h"
      },
      "execution_count": null,
      "outputs": []
    },
    {
      "cell_type": "code",
      "source": [],
      "metadata": {
        "id": "V8BFYfgCNeB4"
      },
      "execution_count": null,
      "outputs": []
    },
    {
      "cell_type": "markdown",
      "source": [
        "# Working with Tensorflow and creating recommendation using neural collaborative filtering."
      ],
      "metadata": {
        "id": "1kM09YPRnA0O"
      }
    },
    {
      "cell_type": "markdown",
      "source": [
        "Converting the graph dataset into a dataset to be use in training a MODEL. because the dataset contain explicit ratings provided by users for various profiles, we will use Tensorflow to preprocess the data and trian our model."
      ],
      "metadata": {
        "id": "484Ny1U70QOp"
      }
    },
    {
      "cell_type": "markdown",
      "source": [
        "Because   it is graph dataset, we will do it this way"
      ],
      "metadata": {
        "id": "zlSPARQE20Fj"
      }
    },
    {
      "cell_type": "code",
      "source": [
        "df2.head()"
      ],
      "metadata": {
        "colab": {
          "base_uri": "https://localhost:8080/",
          "height": 204
        },
        "id": "Wsktyb6J5fKt",
        "outputId": "fbb6125b-e539-4fe9-a8d8-c440b443a466"
      },
      "execution_count": null,
      "outputs": [
        {
          "output_type": "execute_result",
          "data": {
            "text/plain": [
              "   user1  user2  rating\n",
              "0      1    133     8.0\n",
              "1      1    720     6.0\n",
              "2      1    971    10.0\n",
              "3      1   1095     7.0\n",
              "4      1   1616    10.0"
            ],
            "text/html": [
              "\n",
              "  <div id=\"df-e281c004-3d2a-43bc-8025-2640d8616af1\" class=\"colab-df-container\">\n",
              "    <div>\n",
              "<style scoped>\n",
              "    .dataframe tbody tr th:only-of-type {\n",
              "        vertical-align: middle;\n",
              "    }\n",
              "\n",
              "    .dataframe tbody tr th {\n",
              "        vertical-align: top;\n",
              "    }\n",
              "\n",
              "    .dataframe thead th {\n",
              "        text-align: right;\n",
              "    }\n",
              "</style>\n",
              "<table border=\"1\" class=\"dataframe\">\n",
              "  <thead>\n",
              "    <tr style=\"text-align: right;\">\n",
              "      <th></th>\n",
              "      <th>user1</th>\n",
              "      <th>user2</th>\n",
              "      <th>rating</th>\n",
              "    </tr>\n",
              "  </thead>\n",
              "  <tbody>\n",
              "    <tr>\n",
              "      <th>0</th>\n",
              "      <td>1</td>\n",
              "      <td>133</td>\n",
              "      <td>8.0</td>\n",
              "    </tr>\n",
              "    <tr>\n",
              "      <th>1</th>\n",
              "      <td>1</td>\n",
              "      <td>720</td>\n",
              "      <td>6.0</td>\n",
              "    </tr>\n",
              "    <tr>\n",
              "      <th>2</th>\n",
              "      <td>1</td>\n",
              "      <td>971</td>\n",
              "      <td>10.0</td>\n",
              "    </tr>\n",
              "    <tr>\n",
              "      <th>3</th>\n",
              "      <td>1</td>\n",
              "      <td>1095</td>\n",
              "      <td>7.0</td>\n",
              "    </tr>\n",
              "    <tr>\n",
              "      <th>4</th>\n",
              "      <td>1</td>\n",
              "      <td>1616</td>\n",
              "      <td>10.0</td>\n",
              "    </tr>\n",
              "  </tbody>\n",
              "</table>\n",
              "</div>\n",
              "    <div class=\"colab-df-buttons\">\n",
              "\n",
              "  <div class=\"colab-df-container\">\n",
              "    <button class=\"colab-df-convert\" onclick=\"convertToInteractive('df-e281c004-3d2a-43bc-8025-2640d8616af1')\"\n",
              "            title=\"Convert this dataframe to an interactive table.\"\n",
              "            style=\"display:none;\">\n",
              "\n",
              "  <svg xmlns=\"http://www.w3.org/2000/svg\" height=\"24px\" viewBox=\"0 -960 960 960\">\n",
              "    <path d=\"M120-120v-720h720v720H120Zm60-500h600v-160H180v160Zm220 220h160v-160H400v160Zm0 220h160v-160H400v160ZM180-400h160v-160H180v160Zm440 0h160v-160H620v160ZM180-180h160v-160H180v160Zm440 0h160v-160H620v160Z\"/>\n",
              "  </svg>\n",
              "    </button>\n",
              "\n",
              "  <style>\n",
              "    .colab-df-container {\n",
              "      display:flex;\n",
              "      gap: 12px;\n",
              "    }\n",
              "\n",
              "    .colab-df-convert {\n",
              "      background-color: #E8F0FE;\n",
              "      border: none;\n",
              "      border-radius: 50%;\n",
              "      cursor: pointer;\n",
              "      display: none;\n",
              "      fill: #1967D2;\n",
              "      height: 32px;\n",
              "      padding: 0 0 0 0;\n",
              "      width: 32px;\n",
              "    }\n",
              "\n",
              "    .colab-df-convert:hover {\n",
              "      background-color: #E2EBFA;\n",
              "      box-shadow: 0px 1px 2px rgba(60, 64, 67, 0.3), 0px 1px 3px 1px rgba(60, 64, 67, 0.15);\n",
              "      fill: #174EA6;\n",
              "    }\n",
              "\n",
              "    .colab-df-buttons div {\n",
              "      margin-bottom: 4px;\n",
              "    }\n",
              "\n",
              "    [theme=dark] .colab-df-convert {\n",
              "      background-color: #3B4455;\n",
              "      fill: #D2E3FC;\n",
              "    }\n",
              "\n",
              "    [theme=dark] .colab-df-convert:hover {\n",
              "      background-color: #434B5C;\n",
              "      box-shadow: 0px 1px 3px 1px rgba(0, 0, 0, 0.15);\n",
              "      filter: drop-shadow(0px 1px 2px rgba(0, 0, 0, 0.3));\n",
              "      fill: #FFFFFF;\n",
              "    }\n",
              "  </style>\n",
              "\n",
              "    <script>\n",
              "      const buttonEl =\n",
              "        document.querySelector('#df-e281c004-3d2a-43bc-8025-2640d8616af1 button.colab-df-convert');\n",
              "      buttonEl.style.display =\n",
              "        google.colab.kernel.accessAllowed ? 'block' : 'none';\n",
              "\n",
              "      async function convertToInteractive(key) {\n",
              "        const element = document.querySelector('#df-e281c004-3d2a-43bc-8025-2640d8616af1');\n",
              "        const dataTable =\n",
              "          await google.colab.kernel.invokeFunction('convertToInteractive',\n",
              "                                                    [key], {});\n",
              "        if (!dataTable) return;\n",
              "\n",
              "        const docLinkHtml = 'Like what you see? Visit the ' +\n",
              "          '<a target=\"_blank\" href=https://colab.research.google.com/notebooks/data_table.ipynb>data table notebook</a>'\n",
              "          + ' to learn more about interactive tables.';\n",
              "        element.innerHTML = '';\n",
              "        dataTable['output_type'] = 'display_data';\n",
              "        await google.colab.output.renderOutput(dataTable, element);\n",
              "        const docLink = document.createElement('div');\n",
              "        docLink.innerHTML = docLinkHtml;\n",
              "        element.appendChild(docLink);\n",
              "      }\n",
              "    </script>\n",
              "  </div>\n",
              "\n",
              "\n",
              "<div id=\"df-11535808-1cb7-483c-ab6b-4108535e1039\">\n",
              "  <button class=\"colab-df-quickchart\" onclick=\"quickchart('df-11535808-1cb7-483c-ab6b-4108535e1039')\"\n",
              "            title=\"Suggest charts\"\n",
              "            style=\"display:none;\">\n",
              "\n",
              "<svg xmlns=\"http://www.w3.org/2000/svg\" height=\"24px\"viewBox=\"0 0 24 24\"\n",
              "     width=\"24px\">\n",
              "    <g>\n",
              "        <path d=\"M19 3H5c-1.1 0-2 .9-2 2v14c0 1.1.9 2 2 2h14c1.1 0 2-.9 2-2V5c0-1.1-.9-2-2-2zM9 17H7v-7h2v7zm4 0h-2V7h2v10zm4 0h-2v-4h2v4z\"/>\n",
              "    </g>\n",
              "</svg>\n",
              "  </button>\n",
              "\n",
              "<style>\n",
              "  .colab-df-quickchart {\n",
              "      --bg-color: #E8F0FE;\n",
              "      --fill-color: #1967D2;\n",
              "      --hover-bg-color: #E2EBFA;\n",
              "      --hover-fill-color: #174EA6;\n",
              "      --disabled-fill-color: #AAA;\n",
              "      --disabled-bg-color: #DDD;\n",
              "  }\n",
              "\n",
              "  [theme=dark] .colab-df-quickchart {\n",
              "      --bg-color: #3B4455;\n",
              "      --fill-color: #D2E3FC;\n",
              "      --hover-bg-color: #434B5C;\n",
              "      --hover-fill-color: #FFFFFF;\n",
              "      --disabled-bg-color: #3B4455;\n",
              "      --disabled-fill-color: #666;\n",
              "  }\n",
              "\n",
              "  .colab-df-quickchart {\n",
              "    background-color: var(--bg-color);\n",
              "    border: none;\n",
              "    border-radius: 50%;\n",
              "    cursor: pointer;\n",
              "    display: none;\n",
              "    fill: var(--fill-color);\n",
              "    height: 32px;\n",
              "    padding: 0;\n",
              "    width: 32px;\n",
              "  }\n",
              "\n",
              "  .colab-df-quickchart:hover {\n",
              "    background-color: var(--hover-bg-color);\n",
              "    box-shadow: 0 1px 2px rgba(60, 64, 67, 0.3), 0 1px 3px 1px rgba(60, 64, 67, 0.15);\n",
              "    fill: var(--button-hover-fill-color);\n",
              "  }\n",
              "\n",
              "  .colab-df-quickchart-complete:disabled,\n",
              "  .colab-df-quickchart-complete:disabled:hover {\n",
              "    background-color: var(--disabled-bg-color);\n",
              "    fill: var(--disabled-fill-color);\n",
              "    box-shadow: none;\n",
              "  }\n",
              "\n",
              "  .colab-df-spinner {\n",
              "    border: 2px solid var(--fill-color);\n",
              "    border-color: transparent;\n",
              "    border-bottom-color: var(--fill-color);\n",
              "    animation:\n",
              "      spin 1s steps(1) infinite;\n",
              "  }\n",
              "\n",
              "  @keyframes spin {\n",
              "    0% {\n",
              "      border-color: transparent;\n",
              "      border-bottom-color: var(--fill-color);\n",
              "      border-left-color: var(--fill-color);\n",
              "    }\n",
              "    20% {\n",
              "      border-color: transparent;\n",
              "      border-left-color: var(--fill-color);\n",
              "      border-top-color: var(--fill-color);\n",
              "    }\n",
              "    30% {\n",
              "      border-color: transparent;\n",
              "      border-left-color: var(--fill-color);\n",
              "      border-top-color: var(--fill-color);\n",
              "      border-right-color: var(--fill-color);\n",
              "    }\n",
              "    40% {\n",
              "      border-color: transparent;\n",
              "      border-right-color: var(--fill-color);\n",
              "      border-top-color: var(--fill-color);\n",
              "    }\n",
              "    60% {\n",
              "      border-color: transparent;\n",
              "      border-right-color: var(--fill-color);\n",
              "    }\n",
              "    80% {\n",
              "      border-color: transparent;\n",
              "      border-right-color: var(--fill-color);\n",
              "      border-bottom-color: var(--fill-color);\n",
              "    }\n",
              "    90% {\n",
              "      border-color: transparent;\n",
              "      border-bottom-color: var(--fill-color);\n",
              "    }\n",
              "  }\n",
              "</style>\n",
              "\n",
              "  <script>\n",
              "    async function quickchart(key) {\n",
              "      const quickchartButtonEl =\n",
              "        document.querySelector('#' + key + ' button');\n",
              "      quickchartButtonEl.disabled = true;  // To prevent multiple clicks.\n",
              "      quickchartButtonEl.classList.add('colab-df-spinner');\n",
              "      try {\n",
              "        const charts = await google.colab.kernel.invokeFunction(\n",
              "            'suggestCharts', [key], {});\n",
              "      } catch (error) {\n",
              "        console.error('Error during call to suggestCharts:', error);\n",
              "      }\n",
              "      quickchartButtonEl.classList.remove('colab-df-spinner');\n",
              "      quickchartButtonEl.classList.add('colab-df-quickchart-complete');\n",
              "    }\n",
              "    (() => {\n",
              "      let quickchartButtonEl =\n",
              "        document.querySelector('#df-11535808-1cb7-483c-ab6b-4108535e1039 button');\n",
              "      quickchartButtonEl.style.display =\n",
              "        google.colab.kernel.accessAllowed ? 'block' : 'none';\n",
              "    })();\n",
              "  </script>\n",
              "</div>\n",
              "    </div>\n",
              "  </div>\n"
            ],
            "application/vnd.google.colaboratory.intrinsic+json": {
              "type": "dataframe",
              "variable_name": "df2"
            }
          },
          "metadata": {},
          "execution_count": 29
        }
      ]
    },
    {
      "cell_type": "code",
      "source": [
        "import numpy as np\n",
        "from scipy.sparse import csr_matrix\n",
        "\n",
        "# Determine the number of nodes in the graph\n",
        "num_nodes = max(df2[\"user1\"].max(), df2[\"user2\"].max()) + 1\n",
        "\n",
        "# Initialize an empty CSR matrix for the adjacency matrix\n",
        "adjacency_matrix = csr_matrix((num_nodes, num_nodes), dtype=np.float32)\n",
        "\n",
        "# Populate the adjacency matrix\n",
        "for _, row in df2.iterrows():\n",
        "    user1 = int(row[\"user1\"])\n",
        "    user2 = int(row[\"user2\"])\n",
        "    rating = float(row[\"rating\"])\n",
        "\n",
        "    # Assuming undirected graph, set both user1-user2 and user2-user1 to rating\n",
        "    adjacency_matrix[user1, user2] = rating\n",
        "    adjacency_matrix[user2, user1] = rating\n",
        "\n",
        "# Convert adjacency matrix to CSR format\n",
        "adjacency_matrix = adjacency_matrix.tocsr()\n",
        "\n",
        "# Now we have the adjacency matrix representing the graph\n"
      ],
      "metadata": {
        "id": "OTqnJmCzzvjy",
        "colab": {
          "base_uri": "https://localhost:8080/"
        },
        "outputId": "afd06e6f-a19a-4c68-fe09-0f9c455d338c"
      },
      "execution_count": null,
      "outputs": [
        {
          "metadata": {
            "tags": null
          },
          "name": "stderr",
          "output_type": "stream",
          "text": [
            "/usr/local/lib/python3.10/dist-packages/scipy/sparse/_index.py:100: SparseEfficiencyWarning: Changing the sparsity structure of a csr_matrix is expensive. lil_matrix is more efficient.\n",
            "  self._set_intXint(row, col, x.flat[0])\n"
          ]
        }
      ]
    },
    {
      "cell_type": "markdown",
      "source": [
        "If not   gragh dataset, we will do it this way"
      ],
      "metadata": {
        "id": "8o_AaOMB2qy4"
      }
    },
    {
      "cell_type": "code",
      "source": [
        "# # Intilise the shape and Create user-item adjacecy matrix.\n",
        "num_users = df2[\"user1\"].max() + 1\n",
        "num_items = df2[\"user2\"].max() + 1\n",
        "\n",
        "\n",
        "#the code crashed here we will switch   to numpy array\n",
        "# for _, row in df2.iterrows():\n",
        "#   users = int(row[\"user1\"])\n",
        "#   items = int(row[\"user2\"])\n",
        "#   rating = row[\"rating\"]\n",
        "#   adjacency_matrix[user, item] =  rating"
      ],
      "metadata": {
        "id": "1hU9J9iH7z5C"
      },
      "execution_count": null,
      "outputs": []
    },
    {
      "cell_type": "code",
      "source": [
        "#initialize chun_size\n",
        "chunk_size = 1000  # can be adjuted\n",
        "\n",
        "# determine the total number of chunks\n",
        "num_chunks = len(df2) // chunk_size + 1"
      ],
      "metadata": {
        "id": "70UEMrKGNkJ8"
      },
      "execution_count": null,
      "outputs": []
    },
    {
      "cell_type": "code",
      "source": [
        "print(num_chunks)"
      ],
      "metadata": {
        "colab": {
          "base_uri": "https://localhost:8080/"
        },
        "id": "P1e4OTDjXoOV",
        "outputId": "0db9d409-007d-4d16-efa0-4925be1ede13"
      },
      "execution_count": null,
      "outputs": [
        {
          "output_type": "stream",
          "name": "stdout",
          "text": [
            "16168\n"
          ]
        }
      ]
    },
    {
      "cell_type": "code",
      "source": [
        "# create an empty adjacency_matrix\n",
        "#adjacency_matrix = np.zeros((num_users, num_items))\n",
        "\n",
        "# we are aing problem with size of he dataset\n",
        "# so we will utilize sparse CSR matrix\n",
        "# initialize the shape of the adjacency matrix\n",
        "adjacency_matrix = csr_matrix((num_users, num_items),   dtype=np.float32)\n"
      ],
      "metadata": {
        "id": "mFn1pj6JXHNM"
      },
      "execution_count": null,
      "outputs": []
    },
    {
      "cell_type": "code",
      "source": [
        "# # to numpy array and populate the adjacency matrix in chunks\n",
        "# for i in range(num_chunks):\n",
        "#     chunk_start = i * chunk_size\n",
        "#     chunk_end = min((i + 1 ) * chunk_size, len(df2))\n",
        "\n",
        "#     # Extract chunk of data\n",
        "#     chunk_df = df2.iloc[chunk_start:chunk_end]\n",
        "\n",
        "#     # Convert DataFrame columns to numpy arrays for faster computation\n",
        "#     users = chunk_df[\"user1\"].values.astype(int)\n",
        "#     items = chunk_df[\"user2\"].values.astype(int)\n",
        "#     ratings = chunk_df[\"rating\"].values\n",
        "\n",
        "\n",
        "#     # Populate the adjacency matrix for the current chunk\n",
        "#     # for j in range(len(users)):\n",
        "#     #     user = users[j]\n",
        "#     #     item = items[j]\n",
        "#     #     rating = ratings[j]\n",
        "#     #     adjacency_matrix[user, item] = rating\n",
        "\n",
        "#     # Populate the adjacency matrix using vectorized operations for the current chunk\n",
        "#     # for user, item, rating in zip(users, items, ratings):\n",
        "#     #     adjacency_matrix[user, item]  = rating\n",
        "\n",
        "\n",
        "#     # Update the adjacency matrix for the current chunk\n",
        "#     rows = users\n",
        "#     cols = items\n",
        "#     data = ratings\n",
        "#     chunk_adjacency_matrix = csr_matrix((data, (rows, cols)), shape =(num_users, num_items))\n",
        "\n",
        "#     # Add the currenct chunk's  adjacency   matrix to the overall  adjacency matrix\n",
        "#     adjacency_matrix += chunk_adjacency_matrix\n",
        "\n",
        "# # Optionally, you can convert the adjacency matrix to Compressed Sparse Row format\n",
        "# adjacency_matrix = adjacency_matrix.tocsr()\n",
        "\n",
        "# # Now we can use th adjacecy matrix or futher processig"
      ],
      "metadata": {
        "id": "EKO3IsMgEpC5"
      },
      "execution_count": null,
      "outputs": []
    },
    {
      "cell_type": "code",
      "source": [
        "print(adjacency_matrix)"
      ],
      "metadata": {
        "colab": {
          "base_uri": "https://localhost:8080/"
        },
        "id": "44Gcm1ImLvRC",
        "outputId": "726973ac-c603-4201-f2da-373f0d300f14"
      },
      "execution_count": null,
      "outputs": [
        {
          "output_type": "stream",
          "name": "stdout",
          "text": [
            "  (1, 133)\t8.0\n",
            "  (1, 720)\t6.0\n",
            "  (1, 971)\t10.0\n",
            "  (1, 1095)\t7.0\n",
            "  (1, 1616)\t10.0\n",
            "  (1, 1978)\t7.0\n",
            "  (1, 2145)\t8.0\n",
            "  (1, 2211)\t8.0\n",
            "  (1, 3751)\t7.0\n",
            "  (1, 4062)\t3.0\n",
            "  (1, 4633)\t10.0\n",
            "  (1, 4842)\t5.0\n",
            "  (1, 6518)\t6.0\n",
            "  (1, 7576)\t8.0\n",
            "  (1, 7724)\t7.0\n",
            "  (1, 8305)\t10.0\n",
            "  (1, 8923)\t9.0\n",
            "  (1, 9345)\t10.0\n",
            "  (1, 9729)\t10.0\n",
            "  (1, 10148)\t10.0\n",
            "  (1, 10811)\t7.0\n",
            "  (1, 11671)\t5.0\n",
            "  (1, 11747)\t7.0\n",
            "  (1, 12638)\t4.0\n",
            "  (1, 13210)\t10.0\n",
            "  :\t:\n",
            "  (126071, 40888)\t5.0\n",
            "  (126071, 44467)\t4.0\n",
            "  (126071, 46911)\t5.0\n",
            "  (126071, 52891)\t10.0\n",
            "  (126071, 54929)\t10.0\n",
            "  (126071, 59446)\t3.0\n",
            "  (126071, 62433)\t7.0\n",
            "  (126071, 68989)\t7.0\n",
            "  (126071, 69082)\t8.0\n",
            "  (126071, 73121)\t3.0\n",
            "  (126071, 74704)\t4.0\n",
            "  (126071, 77135)\t5.0\n",
            "  (126071, 79706)\t8.0\n",
            "  (126071, 79839)\t6.0\n",
            "  (126071, 81063)\t9.0\n",
            "  (126071, 83773)\t5.0\n",
            "  (126071, 89386)\t6.0\n",
            "  (126071, 89543)\t6.0\n",
            "  (126071, 89855)\t6.0\n",
            "  (126071, 91396)\t5.0\n",
            "  (126071, 95079)\t4.0\n",
            "  (126071, 96796)\t7.0\n",
            "  (126071, 96930)\t5.0\n",
            "  (126071, 97214)\t6.0\n",
            "  (126071, 97655)\t10.0\n"
          ]
        }
      ]
    },
    {
      "cell_type": "code",
      "source": [
        "# # Count the number of unique user IDs and items (profiles)\n",
        "#num_users = dfse['user_id'].nunique()\n",
        "\n",
        "#num_items = dfse.shape[0]  # Assuming each profile is unique\n"
      ],
      "metadata": {
        "id": "r1pEW3Ftm-dv"
      },
      "execution_count": null,
      "outputs": []
    },
    {
      "cell_type": "code",
      "source": [
        "import pandas as pd\n",
        "import tensorflow as tf\n",
        "from sklearn.model_selection import train_test_split\n",
        "\n",
        "# Define your HybridRecommendationModel class\n",
        "class HybridRecommendationModel(tf.keras.Model):\n",
        "    def __init__(self, num_users, num_items, embedding_dim, alpha=0.5):\n",
        "        super(HybridRecommendationModel, self).__init__()\n",
        "        self.num_users = num_users\n",
        "        self.num_items = num_items\n",
        "        self.embedding_dim = embedding_dim\n",
        "        self.alpha = alpha\n",
        "        self.user_embedding = tf.keras.layers.Embedding(num_users, embedding_dim, embeddings_regularizer=tf.keras.regularizers.l2(0.01))\n",
        "        self.item_embedding = tf.keras.layers.Embedding(num_items, embedding_dim, embeddings_regularizer=tf.keras.regularizers.l2(0.01))\n",
        "        self.user_bias = tf.keras.layers.Embedding(num_users, 1)\n",
        "        self.item_bias = tf.keras.layers.Embedding(num_items, 1)\n",
        "\n",
        "    def call(self, inputs):\n",
        "        user_ids, item_ids, explicit_ratings, implicit_feedback = inputs\n",
        "\n",
        "        user_embed = self.user_embedding(user_ids)\n",
        "        item_embed = self.item_embedding(item_ids)\n",
        "        user_bias = self.user_bias(user_ids)\n",
        "        item_bias = self.item_bias(item_ids)\n",
        "\n",
        "        dot_product = tf.reduce_sum(tf.multiply(user_embed, item_embed), axis=1)\n",
        "        prediction = self.alpha * dot_product + (1 - self.alpha) * implicit_feedback\n",
        "\n",
        "        prediction += tf.squeeze(user_bias) + tf.squeeze(item_bias)\n",
        "\n",
        "        return prediction\n",
        "\n",
        "# Load and preprocess data\n",
        "def load_data():\n",
        "    # Load explicit ratings data\n",
        "    explicit_ratings_data = dfok #pd.read_csv('profiles_revised.csv')\n",
        "    # Preprocess explicit ratings data if necessary (e.g., handle missing values, encode categorical features)\n",
        "\n",
        "    # Load implicit feedback data\n",
        "    implicit_feedback_data = dfse #pd.read_csv('libimseti.edges', sep=' ')\n",
        "    # Preprocess implicit feedback data if necessary (e.g., transform interactions into binary indicators)\n",
        "\n",
        "    # Split data into train and evaluation sets\n",
        "    explicit_train_dataset, explicit_eval_dataset = split_data(explicit_ratings_data)\n",
        "    implicit_train_dataset, implicit_eval_dataset = split_data(implicit_feedback_data)\n",
        "\n",
        "    return explicit_train_dataset, explicit_eval_dataset, implicit_train_dataset, implicit_eval_dataset\n",
        "\n",
        "def split_data(data):\n",
        "    # Split data into train and evaluation sets (e.g., using train_test_split)\n",
        "    train_data, eval_data = train_test_split(data, test_size=0.2, random_state=42)\n",
        "    return train_data, eval_data\n",
        "\n",
        "# Instantiate the model\n",
        "model = HybridRecommendationModel(num_users, num_items, embedding_dim, alpha=0.5)\n",
        "\n",
        "# Compile the model\n",
        "model.compile(optimizer=tf.keras.optimizers.Adam(learning_rate=0.001), loss='mse', metrics=['mae', 'rmse'])\n",
        "\n",
        "# Load and preprocess data\n",
        "explicit_train_dataset, explicit_eval_dataset, implicit_train_dataset, implicit_eval_dataset = load_data()\n",
        "\n",
        "# Combine explicit and implicit datasets\n",
        "combined_train_dataset = tf.data.Dataset.zip((tf.data.Dataset.from_tensor_slices((explicit_train_dataset['user_id'], explicit_train_dataset['item_id'], explicit_train_dataset['rating'], implicit_train_dataset['implicit_feedback'])),))\n",
        "combined_eval_dataset = tf.data.Dataset.zip((tf.data.Dataset.from_tensor_slices((explicit_eval_dataset['user_id'], explicit_eval_dataset['item_id'], explicit_eval_dataset['rating'], implicit_eval_dataset['implicit_feedback'])),))\n",
        "\n",
        "# Train the model using the combined dataset\n",
        "model.fit(combined_train_dataset, epochs=num_epochs, validation_data=combined_eval_dataset, callbacks=callbacks)\n",
        "\n",
        "# Evaluate the model\n",
        "eval_loss, eval_mae, eval_rmse = model.evaluate(combined_eval_dataset)\n",
        "\n",
        "# Save the model\n",
        "model.save('hybrid_recommendation_model')\n"
      ],
      "metadata": {
        "colab": {
          "base_uri": "https://localhost:8080/",
          "height": 207
        },
        "id": "HeOcptmNnhn_",
        "outputId": "52ce3cae-2445-47fa-dcd8-fcf02b39da77"
      },
      "execution_count": null,
      "outputs": [
        {
          "output_type": "error",
          "ename": "NameError",
          "evalue": "name 'num_users' is not defined",
          "traceback": [
            "\u001b[0;31m---------------------------------------------------------------------------\u001b[0m",
            "\u001b[0;31mNameError\u001b[0m                                 Traceback (most recent call last)",
            "\u001b[0;32m<ipython-input-20-bbd26b1dfe91>\u001b[0m in \u001b[0;36m<cell line: 55>\u001b[0;34m()\u001b[0m\n\u001b[1;32m     53\u001b[0m \u001b[0;34m\u001b[0m\u001b[0m\n\u001b[1;32m     54\u001b[0m \u001b[0;31m# Instantiate the model\u001b[0m\u001b[0;34m\u001b[0m\u001b[0;34m\u001b[0m\u001b[0m\n\u001b[0;32m---> 55\u001b[0;31m \u001b[0mmodel\u001b[0m \u001b[0;34m=\u001b[0m \u001b[0mHybridRecommendationModel\u001b[0m\u001b[0;34m(\u001b[0m\u001b[0mnum_users\u001b[0m\u001b[0;34m,\u001b[0m \u001b[0mnum_items\u001b[0m\u001b[0;34m,\u001b[0m \u001b[0membedding_dim\u001b[0m\u001b[0;34m,\u001b[0m \u001b[0malpha\u001b[0m\u001b[0;34m=\u001b[0m\u001b[0;36m0.5\u001b[0m\u001b[0;34m)\u001b[0m\u001b[0;34m\u001b[0m\u001b[0;34m\u001b[0m\u001b[0m\n\u001b[0m\u001b[1;32m     56\u001b[0m \u001b[0;34m\u001b[0m\u001b[0m\n\u001b[1;32m     57\u001b[0m \u001b[0;31m# Compile the model\u001b[0m\u001b[0;34m\u001b[0m\u001b[0;34m\u001b[0m\u001b[0m\n",
            "\u001b[0;31mNameError\u001b[0m: name 'num_users' is not defined"
          ]
        }
      ]
    },
    {
      "cell_type": "code",
      "source": [],
      "metadata": {
        "id": "CN7eXDOlP2qw"
      },
      "execution_count": null,
      "outputs": []
    }
  ]
}